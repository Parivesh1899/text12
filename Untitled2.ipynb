{
 "cells": [
  {
   "cell_type": "code",
   "execution_count": 8,
   "id": "f52f4722",
   "metadata": {},
   "outputs": [],
   "source": [
    "a=65"
   ]
  },
  {
   "cell_type": "code",
   "execution_count": 9,
   "id": "e13063d4",
   "metadata": {},
   "outputs": [],
   "source": [
    "b=65"
   ]
  },
  {
   "cell_type": "code",
   "execution_count": 10,
   "id": "d5de7a7e",
   "metadata": {},
   "outputs": [],
   "source": [
    "c=95"
   ]
  },
  {
   "cell_type": "code",
   "execution_count": 11,
   "id": "25a8256e",
   "metadata": {},
   "outputs": [
    {
     "data": {
      "text/plain": [
       "35"
      ]
     },
     "execution_count": 11,
     "metadata": {},
     "output_type": "execute_result"
    }
   ],
   "source": [
    "a+b-c"
   ]
  },
  {
   "cell_type": "code",
   "execution_count": 12,
   "id": "bfe23fcb",
   "metadata": {},
   "outputs": [
    {
     "data": {
      "text/plain": [
       "44.473684210526315"
      ]
     },
     "execution_count": 12,
     "metadata": {},
     "output_type": "execute_result"
    }
   ],
   "source": [
    "a*b/c"
   ]
  },
  {
   "cell_type": "code",
   "execution_count": null,
   "id": "de3f3380",
   "metadata": {},
   "outputs": [],
   "source": []
  }
 ],
 "metadata": {
  "kernelspec": {
   "display_name": "Python 3 (ipykernel)",
   "language": "python",
   "name": "python3"
  },
  "language_info": {
   "codemirror_mode": {
    "name": "ipython",
    "version": 3
   },
   "file_extension": ".py",
   "mimetype": "text/x-python",
   "name": "python",
   "nbconvert_exporter": "python",
   "pygments_lexer": "ipython3",
   "version": "3.9.12"
  }
 },
 "nbformat": 4,
 "nbformat_minor": 5
}
